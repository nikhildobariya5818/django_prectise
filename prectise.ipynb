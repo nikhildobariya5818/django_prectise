{
 "cells": [
  {
   "cell_type": "markdown",
   "metadata": {},
   "source": [
    "1. Basic Problem Solving\n",
    "Question: Write a function to check if a string is a palindrome. Ignore spaces, capitalization, and punctuation."
   ]
  },
  {
   "cell_type": "code",
   "execution_count": 14,
   "metadata": {},
   "outputs": [
    {
     "name": "stdout",
     "output_type": "stream",
     "text": [
      "False\n",
      "True\n"
     ]
    }
   ],
   "source": [
    "def is_palindrome(s: str) -> bool:\n",
    "    cleaned = ''.join(char.lower() for char in s if char.isalnum())\n",
    "    return cleaned == cleaned[::-1]\n",
    "\n",
    "# Example\n",
    "print(is_palindrome(\"nikhil\"))  # True\n",
    "print(is_palindrome(\"nAyAN\"))  # False\n"
   ]
  },
  {
   "cell_type": "markdown",
   "metadata": {},
   "source": [
    "2. List Manipulation\n",
    "Question: Given a list of integers, write a function to find all pairs that sum up to a target value."
   ]
  },
  {
   "cell_type": "code",
   "execution_count": 20,
   "metadata": {},
   "outputs": [
    {
     "name": "stdout",
     "output_type": "stream",
     "text": [
      "[(2, 4), (1, 5)]\n"
     ]
    }
   ],
   "source": [
    "def find_pairs(nums: list[int], target: int) -> list[tuple[int, int]]:\n",
    "    seen = set()\n",
    "    pairs = []\n",
    "    for num in nums:\n",
    "        complement = target - num\n",
    "        if complement in seen:\n",
    "            pairs.append((complement, num))\n",
    "        seen.add(num)\n",
    "    return pairs\n",
    "\n",
    "# Example\n",
    "print(find_pairs([1, 2, 3, 4, 5], 6))  # [(2, 4), (1, 5)]\n"
   ]
  },
  {
   "cell_type": "markdown",
   "metadata": {},
   "source": [
    "3. Dictionary Comprehension\n",
    "Question: Write a function to count the frequency of characters in a string."
   ]
  },
  {
   "cell_type": "code",
   "execution_count": 21,
   "metadata": {},
   "outputs": [
    {
     "name": "stdout",
     "output_type": "stream",
     "text": [
      "{'r': 2, 'g': 2, 'n': 1, 'a': 1, 'i': 1, 'o': 1, 'p': 1, 'm': 2}\n"
     ]
    }
   ],
   "source": [
    "def char_frequency(s: str) -> dict:\n",
    "    return {char: s.count(char) for char in set(s)}\n",
    "\n",
    "# Example\n",
    "print(char_frequency(\"programming\"))  # {'p': 1, 'r': 2, 'o': 1, 'g': 2, 'a': 1, 'm': 2, 'i': 1, 'n': 1}\n"
   ]
  },
  {
   "cell_type": "markdown",
   "metadata": {},
   "source": [
    "4. File Handling\n",
    "Question: Write a program to read a file and count the number of lines, words, and characters."
   ]
  },
  {
   "cell_type": "code",
   "execution_count": 25,
   "metadata": {},
   "outputs": [
    {
     "data": {
      "text/plain": [
       "(70, 366, 3359)"
      ]
     },
     "execution_count": 25,
     "metadata": {},
     "output_type": "execute_result"
    }
   ],
   "source": [
    "def file_statistics(file_path: str):\n",
    "    with open(file_path, 'r') as file:\n",
    "        lines = file.readlines()\n",
    "        line_count = len(lines)\n",
    "        word_count = sum(len(line.split()) for line in lines)\n",
    "        char_count = sum(len(line) for line in lines)\n",
    "    return line_count, word_count, char_count\n",
    "\n",
    "# Example\n",
    "# Save this script as a file and call file_statistics('filename.txt')\n",
    "file_statistics('README.md')"
   ]
  },
  {
   "cell_type": "markdown",
   "metadata": {},
   "source": [
    "5. Working with Classes\n",
    "Question: Implement a BankAccount class with methods to deposit, withdraw, and check balance."
   ]
  },
  {
   "cell_type": "code",
   "execution_count": 30,
   "metadata": {},
   "outputs": [
    {
     "name": "stdout",
     "output_type": "stream",
     "text": [
      "1300\n"
     ]
    }
   ],
   "source": [
    "class BankAccount:\n",
    "    def __init__(self, account_holder: str, balance: float = 0.0):\n",
    "        self.account_holder = account_holder\n",
    "        self.balance = balance\n",
    "\n",
    "    def deposit(self, amount: float):\n",
    "        self.balance += amount\n",
    "\n",
    "    def withdraw(self, amount: float):\n",
    "        if amount > self.balance:\n",
    "            raise ValueError(\"Insufficient balance\")\n",
    "        self.balance -= amount\n",
    "\n",
    "    def check_balance(self):\n",
    "        return self.balance\n",
    "\n",
    "# Example\n",
    "account = BankAccount(\"John Doe\", 1000)\n",
    "account.deposit(500)\n",
    "account.withdraw(200)\n",
    "print(account.check_balance())  # 1300\n"
   ]
  },
  {
   "cell_type": "markdown",
   "metadata": {},
   "source": [
    "6. Algorithm Implementation\n",
    "Question: Write a program to implement the Fibonacci sequence iteratively and recursively."
   ]
  },
  {
   "cell_type": "code",
   "execution_count": 37,
   "metadata": {},
   "outputs": [
    {
     "name": "stdout",
     "output_type": "stream",
     "text": [
      "[0, 1, 1, 2, 3, 5, 8, 13, 21, 34]\n",
      "55\n"
     ]
    }
   ],
   "source": [
    "# Iterative\n",
    "def fibonacci_iterative(n):\n",
    "    fib = [0, 1]\n",
    "    for i in range(2, n):\n",
    "        fib.append(fib[-1] + fib[-2])\n",
    "    return fib[:n]\n",
    "\n",
    "# Recursive\n",
    "def fibonacci_recursive(n):\n",
    "    if n <= 1:\n",
    "        return n\n",
    "    return fibonacci_recursive(n - 1) + fibonacci_recursive(n - 2)\n",
    "\n",
    "# Example\n",
    "print(fibonacci_iterative(10))  # [0, 1, 1, 2, 3, 5, 8, 13, 21, 34]\n",
    "print(fibonacci_recursive(10))  # 55 (10th Fibonacci number)\n"
   ]
  },
  {
   "cell_type": "markdown",
   "metadata": {},
   "source": [
    "7. Error Handling\n",
    "Question: Write a program that handles division by zero gracefully."
   ]
  },
  {
   "cell_type": "code",
   "execution_count": null,
   "metadata": {},
   "outputs": [],
   "source": [
    "def safe_division(a: float, b: float) -> float:\n",
    "    try:\n",
    "        return a / b\n",
    "    except ZeroDivisionError:\n",
    "        return float('inf')\n",
    "\n",
    "# Example\n",
    "print(safe_division(10, 2))  # 5.0\n",
    "print(safe_division(10, 0))  # inf"
   ]
  },
  {
   "cell_type": "markdown",
   "metadata": {},
   "source": [
    "8. Sorting\n",
    "Question: Write a function to sort a list of tuples by the second value in each tuple."
   ]
  },
  {
   "cell_type": "code",
   "execution_count": null,
   "metadata": {},
   "outputs": [],
   "source": [
    "def sort_by_second_element(data: list[tuple]) -> list[tuple]:\n",
    "    return sorted(data, key=lambda x: x[1])\n",
    "\n",
    "# Example\n",
    "print(sort_by_second_element([(1, 3), (4, 1), (2, 2)]))  # [(4, 1), (2, 2), (1, 3)]\n"
   ]
  },
  {
   "cell_type": "markdown",
   "metadata": {},
   "source": [
    "9. Web Scraping\n",
    "Question: Write a program to fetch and display the titles of the top headlines from a news website using requests and BeautifulSoup."
   ]
  },
  {
   "cell_type": "code",
   "execution_count": null,
   "metadata": {},
   "outputs": [],
   "source": [
    "import requests\n",
    "from bs4 import BeautifulSoup\n",
    "\n",
    "def fetch_headlines(url: str):\n",
    "    response = requests.get(url)\n",
    "    soup = BeautifulSoup(response.content, 'html.parser')\n",
    "    headlines = [headline.text for headline in soup.find_all('h2')]\n",
    "    return headlines\n",
    "\n",
    "# Example (Use a sample website with headlines)\n",
    "# print(fetch_headlines(\"https://example-news-site.com\"))\n"
   ]
  },
  {
   "cell_type": "markdown",
   "metadata": {},
   "source": [
    "10. API Integration\n",
    "Question: Use the requests library to make a GET request to a public API and display the result."
   ]
  },
  {
   "cell_type": "code",
   "execution_count": null,
   "metadata": {},
   "outputs": [],
   "source": [
    "import requests\n",
    "\n",
    "def fetch_public_api_data():\n",
    "    url = \"https://api.agify.io?name=michael\"\n",
    "    response = requests.get(url)\n",
    "    return response.json()\n",
    "\n",
    "# Example\n",
    "print(fetch_public_api_data())\n"
   ]
  },
  {
   "cell_type": "markdown",
   "metadata": {},
   "source": [
    "11. Fibonacci Sequence\n",
    "Question: Write a function that returns the nth number in the Fibonacci sequence without using recursion or an explicit list."
   ]
  },
  {
   "cell_type": "code",
   "execution_count": null,
   "metadata": {},
   "outputs": [],
   "source": [
    "def nth_fibonacci(n: int) -> int:\n",
    "    if n <= 1:\n",
    "        return n\n",
    "    a, b = 0, 1\n",
    "    for _ in range(2, n + 1):\n",
    "        a, b = b, a + b\n",
    "    return b\n",
    "\n",
    "# Example\n",
    "print(nth_fibonacci(10))  # 55\n"
   ]
  },
  {
   "cell_type": "markdown",
   "metadata": {},
   "source": [
    "12. Missing Number in an Array\n",
    "Question: Given an array of size n-1 containing integers from 1 to n, write a function to find the missing number."
   ]
  },
  {
   "cell_type": "code",
   "execution_count": null,
   "metadata": {},
   "outputs": [],
   "source": [
    "def find_missing_number(nums: list[int]) -> int:\n",
    "    n = len(nums) + 1\n",
    "    expected_sum = n * (n + 1) // 2\n",
    "    actual_sum = sum(nums)\n",
    "    return expected_sum - actual_sum\n",
    "\n",
    "# Example\n",
    "print(find_missing_number([1, 2, 4, 5, 6]))  # 3\n"
   ]
  },
  {
   "cell_type": "markdown",
   "metadata": {},
   "source": [
    "13. Anagrams Check\n",
    "Question: Write a function to check if two strings are anagrams of each other."
   ]
  },
  {
   "cell_type": "code",
   "execution_count": null,
   "metadata": {},
   "outputs": [],
   "source": [
    "def are_anagrams(s1: str, s2: str) -> bool:\n",
    "    return sorted(s1) == sorted(s2)\n",
    "\n",
    "# Example\n",
    "print(are_anagrams(\"listen\", \"silent\"))  # True\n",
    "print(are_anagrams(\"hello\", \"world\"))    # False\n"
   ]
  },
  {
   "cell_type": "markdown",
   "metadata": {},
   "source": [
    "14. Water Container Problem\n",
    "Question: Given an array of integers representing the heights of vertical lines, find the maximum area of water a container can hold."
   ]
  },
  {
   "cell_type": "code",
   "execution_count": null,
   "metadata": {},
   "outputs": [],
   "source": [
    "def max_water_container(heights: list[int]) -> int:\n",
    "    left, right = 0, len(heights) - 1\n",
    "    max_area = 0\n",
    "    while left < right:\n",
    "        height = min(heights[left], heights[right])\n",
    "        width = right - left\n",
    "        max_area = max(max_area, height * width)\n",
    "        if heights[left] < heights[right]:\n",
    "            left += 1\n",
    "        else:\n",
    "            right -= 1\n",
    "    return max_area\n",
    "\n",
    "# Example\n",
    "print(max_water_container([1, 8, 6, 2, 5, 4, 8, 3, 7]))  # 49\n"
   ]
  },
  {
   "cell_type": "markdown",
   "metadata": {},
   "source": [
    "15. Sum of Digits Until Single Digit\n",
    "Question: Write a function to repeatedly sum the digits of a number until it becomes a single-digit number."
   ]
  },
  {
   "cell_type": "code",
   "execution_count": null,
   "metadata": {},
   "outputs": [],
   "source": [
    "def single_digit_sum(num: int) -> int:\n",
    "    while num >= 10:\n",
    "        num = sum(int(digit) for digit in str(num))\n",
    "    return num\n",
    "\n",
    "# Example\n",
    "print(single_digit_sum(12345))  # 6 (1+2+3+4+5 = 15 -> 1+5 = 6)\n"
   ]
  },
  {
   "cell_type": "markdown",
   "metadata": {},
   "source": [
    "16. Find Duplicate\n",
    "Question: Write a function to find the first duplicate element in a list."
   ]
  },
  {
   "cell_type": "code",
   "execution_count": null,
   "metadata": {},
   "outputs": [],
   "source": [
    "def first_duplicate(nums: list[int]) -> int:\n",
    "    seen = set()\n",
    "    for num in nums:\n",
    "        if num in seen:\n",
    "            return num\n",
    "        seen.add(num)\n",
    "    return -1  # Return -1 if no duplicates\n",
    "\n",
    "# Example\n",
    "print(first_duplicate([1, 2, 3, 4, 2, 5]))  # 2\n",
    "print(first_duplicate([1, 2, 3, 4, 5]))    # -1\n"
   ]
  },
  {
   "cell_type": "markdown",
   "metadata": {},
   "source": [
    "17. Balanced Parentheses\n",
    "Question: Write a function to check if a string of parentheses is balanced."
   ]
  },
  {
   "cell_type": "code",
   "execution_count": null,
   "metadata": {},
   "outputs": [],
   "source": [
    "def is_balanced_parentheses(s: str) -> bool:\n",
    "    stack = []\n",
    "    for char in s:\n",
    "        if char == '(':\n",
    "            stack.append(char)\n",
    "        elif char == ')':\n",
    "            if not stack:\n",
    "                return False\n",
    "            stack.pop()\n",
    "    return not stack\n",
    "\n",
    "# Example\n",
    "print(is_balanced_parentheses(\"((()))\"))  # True\n",
    "print(is_balanced_parentheses(\"(()))\"))   # False\n"
   ]
  },
  {
   "cell_type": "markdown",
   "metadata": {},
   "source": [
    "18. Find the Majority Element\n",
    "Question: Write a function to find the majority element in a list. A majority element appears more than n/2 times in a list of size n."
   ]
  },
  {
   "cell_type": "code",
   "execution_count": null,
   "metadata": {},
   "outputs": [],
   "source": [
    "def find_majority(nums: list[int]) -> int:\n",
    "    count = 0\n",
    "    candidate = None\n",
    "    for num in nums:\n",
    "        if count == 0:\n",
    "            candidate = num\n",
    "        count += (1 if num == candidate else -1)\n",
    "    return candidate if nums.count(candidate) > len(nums) // 2 else -1\n",
    "\n",
    "# Example\n",
    "print(find_majority([3, 3, 4, 2, 3, 3]))  # 3\n",
    "print(find_majority([1, 2, 3, 4]))       # -1\n"
   ]
  },
  {
   "cell_type": "markdown",
   "metadata": {},
   "source": [
    "19. Find Intersection of Two Arrays\n",
    "Question: Write a function to find the intersection of two arrays."
   ]
  },
  {
   "cell_type": "code",
   "execution_count": null,
   "metadata": {},
   "outputs": [],
   "source": [
    "def array_intersection(arr1: list[int], arr2: list[int]) -> list[int]:\n",
    "    return list(set(arr1) & set(arr2))\n",
    "\n",
    "# Example\n",
    "print(array_intersection([1, 2, 3, 4], [3, 4, 5, 6]))  # [3, 4]\n"
   ]
  },
  {
   "cell_type": "markdown",
   "metadata": {},
   "source": [
    "20. Find the Longest Substring Without Repeating Characters\n",
    "Question: Write a function to find the length of the longest substring without repeating characters."
   ]
  },
  {
   "cell_type": "code",
   "execution_count": null,
   "metadata": {},
   "outputs": [],
   "source": [
    "def longest_unique_substring(s: str) -> int:\n",
    "    seen = {}\n",
    "    max_length = start = 0\n",
    "    for i, char in enumerate(s):\n",
    "        if char in seen and seen[char] >= start:\n",
    "            start = seen[char] + 1\n",
    "        seen[char] = i\n",
    "        max_length = max(max_length, i - start + 1)\n",
    "    return max_length\n",
    "\n",
    "# Example\n",
    "print(longest_unique_substring(\"abcabcbb\"))  # 3 (\"abc\")\n",
    "print(longest_unique_substring(\"bbbbb\"))     # 1 (\"b\")\n"
   ]
  }
 ],
 "metadata": {
  "kernelspec": {
   "display_name": "Python 3",
   "language": "python",
   "name": "python3"
  },
  "language_info": {
   "codemirror_mode": {
    "name": "ipython",
    "version": 3
   },
   "file_extension": ".py",
   "mimetype": "text/x-python",
   "name": "python",
   "nbconvert_exporter": "python",
   "pygments_lexer": "ipython3",
   "version": "3.10.0"
  }
 },
 "nbformat": 4,
 "nbformat_minor": 2
}
